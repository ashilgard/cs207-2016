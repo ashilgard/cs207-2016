{
 "cells": [
  {
   "cell_type": "markdown",
   "metadata": {
    "collapsed": true
   },
   "source": [
    "## Q1.\n",
    "\n",
    "Add a __setitem__ to the python linked list implementation from the lecture (this past wednesday)."
   ]
  },
  {
   "cell_type": "code",
   "execution_count": 7,
   "metadata": {
    "collapsed": true
   },
   "outputs": [],
   "source": [
    "from doctest import run_docstring_examples as dtest\n",
    "import numbers\n",
    "import reprlib\n",
    "class LL:\n",
    "    \"\"\"\n",
    "    >>> A = LL()  \n",
    "    >>> A[0]\n",
    "    Traceback (most recent call last):\n",
    "        ...\n",
    "    IndexError: trying to index an empty LL\n",
    "    >>> A.insert_front(1)\n",
    "    >>> A[0]\n",
    "    1\n",
    "    >>> A.insert_back(2)\n",
    "    >>> A[1]\n",
    "    2\n",
    "    >>> A\n",
    "    LL([1,...])\n",
    "    >>> myll = LL.from_components([1,2])\n",
    "    >>> myll[1]\n",
    "    1\n",
    "    >>> len(myll)\n",
    "    2\n",
    "    >>> myll[2]\n",
    "    Traceback (most recent call last):\n",
    "        ...\n",
    "    IndexError: LL index out of range\n",
    "    >>> myll[0:1]\n",
    "    Traceback (most recent call last):\n",
    "        ...\n",
    "    TypeError: LL indices must be integers\n",
    "    \"\"\"\n",
    "    @classmethod\n",
    "    def from_components(cls, components):\n",
    "        inst = cls(components[0])\n",
    "        for c in components[1:]:\n",
    "            inst.insert_front(c)\n",
    "        return inst\n",
    "        \n",
    "    def __init__(self, head=None):\n",
    "        if head is None:\n",
    "            self._headNode = None\n",
    "        else:\n",
    "            self._headNode = [head, None]\n",
    "            \n",
    "    def insert_front(self, element):\n",
    "        new_node = [element, None]\n",
    "        new_node[1] = self._headNode\n",
    "        self._headNode = new_node\n",
    "        \n",
    "    def insert_back(self, element):\n",
    "        new_node = [element, None]\n",
    "        curr_ptr = self._headNode\n",
    "        while curr_ptr[1] is not None:\n",
    "            curr_ptr = curr_ptr[1]\n",
    "        curr_ptr[1]= new_node\n",
    "        \n",
    "    def __repr__(self):\n",
    "        class_name = type(self).__name__\n",
    "        if len(self)==0:\n",
    "            components=\"\"\n",
    "        else:\n",
    "            components = reprlib.repr(self[0])\n",
    "        return '{}([{},...])'.format(class_name,components)\n",
    "\n",
    "\n",
    "    def __len__(self):\n",
    "        curr_ptr = self._headNode\n",
    "        count = 0\n",
    "        if curr_ptr==None:\n",
    "            return 0\n",
    "        while 1:\n",
    "            count = count + 1\n",
    "            if curr_ptr[1] is None:\n",
    "                break\n",
    "            curr_ptr = curr_ptr[1]\n",
    "        return count    \n",
    "    \n",
    "    def __getitem__(self, index):\n",
    "        class_name = type(self).__name__\n",
    "        if isinstance(index, numbers.Integral): \n",
    "            curr_ptr = self._headNode\n",
    "            if curr_ptr==None:\n",
    "                msg = 'trying to index an empty {class_name}' \n",
    "                raise IndexError(msg.format(class_name=class_name))\n",
    "            next_ptr = self._headNode[1]\n",
    "            count = 0\n",
    "            while 1:\n",
    "                if index == count:\n",
    "                    return curr_ptr[0]\n",
    "                if curr_ptr[1] is None:\n",
    "                    msg = '{class_name} index out of range' \n",
    "                    raise IndexError(msg.format(class_name=class_name))       \n",
    "                count += 1\n",
    "                curr_ptr = curr_ptr[1]\n",
    "        else:\n",
    "            msg = '{class_name} indices must be integers' \n",
    "            raise TypeError(msg.format(class_name=class_name))\n",
    "            \n",
    "    def __setitem__(self, index, value):\n",
    "        print(index)\n",
    "        print(value)\n",
    "        class_name = type(self).__name__\n",
    "        if isinstance(index, numbers.Integral): \n",
    "            curr_ptr = self._headNode\n",
    "            if curr_ptr==None:\n",
    "                msg = 'trying to index an empty {class_name}' \n",
    "                raise IndexError(msg.format(class_name=class_name))\n",
    "            next_ptr = self._headNode[1]\n",
    "            count = 0\n",
    "            while 1:\n",
    "                if index == count:\n",
    "                    curr_ptr[0] = value\n",
    "                    break\n",
    "                if curr_ptr[1] is None:\n",
    "                    msg = '{class_name} index out of range' \n",
    "                    raise IndexError(msg.format(class_name=class_name))       \n",
    "                count += 1\n",
    "                curr_ptr = curr_ptr[1]\n",
    "        else:\n",
    "            msg = '{class_name} indices must be integers' \n",
    "            raise TypeError(msg.format(class_name=class_name))\n"
   ]
  },
  {
   "cell_type": "code",
   "execution_count": 9,
   "metadata": {
    "collapsed": false
   },
   "outputs": [
    {
     "name": "stdout",
     "output_type": "stream",
     "text": [
      "32\n",
      "2\n",
      "6\n",
      "6\n"
     ]
    }
   ],
   "source": [
    "myll=LL.from_components([1,2,32,-4,5])\n",
    "print(myll[2])\n",
    "myll[2]=6\n",
    "print(myll[2])"
   ]
  },
  {
   "cell_type": "markdown",
   "metadata": {},
   "source": [
    "## Q2.\n",
    "\n",
    "An online mean and standard deviation algorithm.\n",
    "\n",
    "Below is a function to generate a potentially infinite stream of 1-D data."
   ]
  },
  {
   "cell_type": "code",
   "execution_count": 10,
   "metadata": {
    "collapsed": false
   },
   "outputs": [],
   "source": [
    "from random import normalvariate, random\n",
    "from itertools import count\n",
    "def make_data(m, stop=None):\n",
    "    for _ in count():\n",
    "        if stop and _ > stop:\n",
    "            break\n",
    "        yield 1.0e09 + normalvariate(0, m*random() )\n",
    "        "
   ]
  },
  {
   "cell_type": "markdown",
   "metadata": {},
   "source": [
    "Here is an implementation of an online mean algorithm..see http://www.johndcook.com/blog/standard_deviation/ and the link to http://www.johndcook.com/blog/2008/09/26/comparing-three-methods-of-computing-standard-deviation/ in-between. (Convince yourselves of the formulas...)"
   ]
  },
  {
   "cell_type": "code",
   "execution_count": 11,
   "metadata": {
    "collapsed": true
   },
   "outputs": [],
   "source": [
    "def online_mean(iterator):\n",
    "    n = 0\n",
    "    mu = 0\n",
    "    for value in iterator:\n",
    "        n += 1\n",
    "        delta = value - mu\n",
    "        mu = mu + delta/n\n",
    "        yield mu"
   ]
  },
  {
   "cell_type": "markdown",
   "metadata": {},
   "source": [
    "We use out generator functions to implement iterators:"
   ]
  },
  {
   "cell_type": "code",
   "execution_count": 12,
   "metadata": {
    "collapsed": false
   },
   "outputs": [
    {
     "data": {
      "text/plain": [
       "[999999997.3151411,\n",
       " 1000000000.6885356,\n",
       " 1000000005.573371,\n",
       " 999999997.8846169,\n",
       " 999999993.2127588,\n",
       " 1000000000.2521144,\n",
       " 999999999.293031,\n",
       " 999999998.782947,\n",
       " 999999995.2161274,\n",
       " 999999998.1943685,\n",
       " 999999997.3723673]"
      ]
     },
     "execution_count": 12,
     "metadata": {},
     "output_type": "execute_result"
    }
   ],
   "source": [
    "g = make_data(5, 10)\n",
    "list(g)"
   ]
  },
  {
   "cell_type": "code",
   "execution_count": 13,
   "metadata": {
    "collapsed": false
   },
   "outputs": [
    {
     "name": "stdout",
     "output_type": "stream",
     "text": [
      "<class 'generator'>\n"
     ]
    },
    {
     "data": {
      "text/plain": [
       "[999999998.5358473,\n",
       " 999999999.8694893,\n",
       " 1000000000.1735102,\n",
       " 1000000000.2407626,\n",
       " 999999999.1173363,\n",
       " 999999999.1187015,\n",
       " 999999999.3836064,\n",
       " 999999998.9715596,\n",
       " 999999999.0976591,\n",
       " 999999999.1917348,\n",
       " 999999999.4043177,\n",
       " 999999999.4542656,\n",
       " 999999999.6026032,\n",
       " 999999999.6314168,\n",
       " 999999999.6349902,\n",
       " 999999999.8235264,\n",
       " 1000000000.0035387,\n",
       " 1000000000.0255606,\n",
       " 1000000000.2154347,\n",
       " 1000000000.2102115,\n",
       " 1000000000.2230284,\n",
       " 999999999.837342,\n",
       " 999999999.9480865,\n",
       " 999999999.9108169,\n",
       " 999999999.9354688,\n",
       " 999999999.9357841,\n",
       " 999999999.548194,\n",
       " 999999999.4993162,\n",
       " 999999999.5882306,\n",
       " 999999999.6396805,\n",
       " 999999999.6563426,\n",
       " 999999999.6686934,\n",
       " 999999999.8476815,\n",
       " 999999999.8141693,\n",
       " 999999999.8151883,\n",
       " 999999999.6494095,\n",
       " 999999999.6727651,\n",
       " 999999999.6731607,\n",
       " 999999999.6552069,\n",
       " 999999999.6711254,\n",
       " 999999999.6422147,\n",
       " 999999999.5119506,\n",
       " 999999999.5815011,\n",
       " 999999999.5975876,\n",
       " 999999999.6409388,\n",
       " 999999999.6557727,\n",
       " 999999999.7054297,\n",
       " 999999999.694879,\n",
       " 999999999.7006545,\n",
       " 999999999.8115371,\n",
       " 999999999.8485632,\n",
       " 999999999.832118,\n",
       " 999999999.8791616,\n",
       " 999999999.9040781,\n",
       " 999999999.8717356,\n",
       " 999999999.8550404,\n",
       " 999999999.8138933,\n",
       " 999999999.8052298,\n",
       " 999999999.8003057,\n",
       " 999999999.7371216,\n",
       " 999999999.7777866,\n",
       " 999999999.6811106,\n",
       " 999999999.7346342,\n",
       " 999999999.7382677,\n",
       " 999999999.7266564,\n",
       " 999999999.7719897,\n",
       " 999999999.7671533,\n",
       " 999999999.8855705,\n",
       " 999999999.9053694,\n",
       " 999999999.9161743,\n",
       " 999999999.8369268,\n",
       " 999999999.8779734,\n",
       " 999999999.9910219,\n",
       " 999999999.988209,\n",
       " 999999999.987667,\n",
       " 1000000000.002265,\n",
       " 999999999.9552383,\n",
       " 999999999.9867076,\n",
       " 1000000000.0860947,\n",
       " 1000000000.0328662,\n",
       " 999999999.9918289,\n",
       " 999999999.9849184,\n",
       " 999999999.9873633,\n",
       " 1000000000.0027509,\n",
       " 1000000000.0114326,\n",
       " 1000000000.0476443,\n",
       " 1000000000.0548283,\n",
       " 999999999.9800068,\n",
       " 1000000000.0308374,\n",
       " 1000000000.0127093,\n",
       " 999999999.9811301,\n",
       " 999999999.9977968,\n",
       " 999999999.9416629,\n",
       " 999999999.973624,\n",
       " 999999999.9729627,\n",
       " 999999999.9694033,\n",
       " 999999999.9801755,\n",
       " 999999999.9709835,\n",
       " 999999999.9597158,\n",
       " 999999999.9436646,\n",
       " 999999999.942049]"
      ]
     },
     "execution_count": 13,
     "metadata": {},
     "output_type": "execute_result"
    }
   ],
   "source": [
    "g = online_mean(make_data(5, 100))\n",
    "print(type(g))\n",
    "list(g)"
   ]
  },
  {
   "cell_type": "markdown",
   "metadata": {},
   "source": [
    "### 2.1\n",
    "\n",
    "Implement the standard deviation algorithm as a generator function as\n",
    "\n",
    "```python\n",
    "def online_mean_dev(iterator):\n",
    "    BLA BLA\n",
    "    if n > 1:\n",
    "        stddev = math.sqrt(dev_accum/(n-1))\n",
    "        yield (n, value, mu, stddev)\n",
    "```"
   ]
  },
  {
   "cell_type": "code",
   "execution_count": 24,
   "metadata": {
    "collapsed": false
   },
   "outputs": [],
   "source": [
    "import math\n",
    "def online_mean_dev(iterator):\n",
    "    n = 0\n",
    "    mu = 0\n",
    "    stddev = 0\n",
    "    dev_accum = 0\n",
    "    for value in iterator:\n",
    "        n += 1\n",
    "        delta = value - mu\n",
    "        mu = mu + delta/n\n",
    "        if n > 1:\n",
    "            dev_accum = dev_accum + delta*(value-mu)\n",
    "#         yield mu\n",
    "            stddev = math.sqrt(dev_accum/(n-1))\n",
    "        yield (n, value, mu, stddev)\n"
   ]
  },
  {
   "cell_type": "markdown",
   "metadata": {},
   "source": [
    "Here we make 100000 element data, and run this iterator on it (imagine running this on a time-series being slowly read from disk"
   ]
  },
  {
   "cell_type": "code",
   "execution_count": 26,
   "metadata": {
    "collapsed": false
   },
   "outputs": [],
   "source": [
    "data_with_stats = online_mean_dev(make_data(5, 100000))\n",
    "# list(data_with_stats)"
   ]
  },
  {
   "cell_type": "markdown",
   "metadata": {},
   "source": [
    "## Q3.\n",
    "\n",
    "Let's do Anomaly detection. Write a routine `is_ok`:\n",
    "\n",
    "```python\n",
    "def is_ok(level, t)\n",
    "```\n",
    "\n",
    "which takes a tuple like the one yielded by your code above and returns True if the value is inbetween `level`-$\\sigma$ of the mean."
   ]
  },
  {
   "cell_type": "code",
   "execution_count": 27,
   "metadata": {
    "collapsed": true
   },
   "outputs": [],
   "source": [
    "def is_ok(level, t):\n",
    "    n, value, mu, stddev = t\n",
    "    if (value < level*stddev + mu) and (value > mu - level*stddev):\n",
    "        return True\n",
    "    else:\n",
    "        return False\n"
   ]
  },
  {
   "cell_type": "markdown",
   "metadata": {},
   "source": [
    "We use this function to create a predicate passed through to `itertools.filterfalse` which is then used to obtain an iterator on the anomalies."
   ]
  },
  {
   "cell_type": "code",
   "execution_count": 28,
   "metadata": {
    "collapsed": true
   },
   "outputs": [],
   "source": [
    "from itertools import filterfalse\n",
    "pred = lambda t: is_ok(5, t)\n",
    "anomalies = filterfalse(pred, data_with_stats)"
   ]
  },
  {
   "cell_type": "markdown",
   "metadata": {},
   "source": [
    "We materialize the anomalies..."
   ]
  },
  {
   "cell_type": "code",
   "execution_count": 29,
   "metadata": {
    "collapsed": false
   },
   "outputs": [
    {
     "data": {
      "text/plain": [
       "[(1, 1000000005.3945599, 1000000005.3945599, 0),\n",
       " (378, 1000000014.0807742, 1000000000.0747417, 2.7128119146478933),\n",
       " (2580, 999999983.7533764, 1000000000.0106078, 2.8966086122788672),\n",
       " (3014, 1000000018.8360294, 1000000000.0092626, 2.930668407264497),\n",
       " (4393, 1000000014.7936232, 1000000000.0145212, 2.9089757986937608),\n",
       " (7281, 999999984.1982138, 1000000000.0021338, 2.9298678474200983),\n",
       " (7496, 1000000016.4160113, 1000000000.0056182, 2.9374133311238486),\n",
       " (8262, 999999983.984422, 1000000000.0061917, 2.9349058384182998),\n",
       " (12401, 999999984.4641024, 999999999.9930317, 2.9292795062000576),\n",
       " (13139, 1000000017.3311118, 999999999.9999644, 2.9284894992936223),\n",
       " (14084, 1000000014.7573775, 1000000000.0043367, 2.9251849404143426),\n",
       " (14604, 999999984.3361281, 1000000000.0043129, 2.9203411227971694),\n",
       " (14638, 999999983.283485, 1000000000.0022413, 2.92272882772171),\n",
       " (18152, 1000000014.561518, 1000000000.004105, 2.8981906761355813),\n",
       " (18474, 1000000016.2424222, 1000000000.0028969, 2.898240211216823),\n",
       " (19698, 999999985.1039413, 1000000000.0002472, 2.9017365091728506),\n",
       " (22576, 1000000015.872153, 1000000000.0019927, 2.9146198411383835),\n",
       " (28889, 1000000015.5125865, 1000000000.0081944, 2.9132166057257742),\n",
       " (29565, 999999985.1730739, 1000000000.0087322, 2.9107858363464225),\n",
       " (31137, 999999981.6885945, 1000000000.0091504, 2.909486071289283),\n",
       " (33875, 1000000021.1672332, 1000000000.0118654, 2.9101435915879206),\n",
       " (38218, 1000000016.0627465, 1000000000.0135654, 2.907748818939106),\n",
       " (39848, 1000000014.6022166, 1000000000.0155302, 2.9021535338788444),\n",
       " (40441, 1000000015.2536057, 1000000000.0153443, 2.904608024767793),\n",
       " (41661, 1000000015.8860945, 1000000000.0165477, 2.907404585327421),\n",
       " (43825, 999999979.2034892, 1000000000.0134392, 2.9041474363969755),\n",
       " (48557, 1000000015.3855634, 1000000000.0099771, 2.898461196046572),\n",
       " (52236, 999999984.5081643, 1000000000.008061, 2.8951789106485784),\n",
       " (52582, 1000000015.4633993, 1000000000.0085077, 2.897286601505809),\n",
       " (55438, 1000000015.0152943, 1000000000.0086331, 2.8956027712562724),\n",
       " (65640, 1000000015.729885, 1000000000.0088023, 2.893843777058571),\n",
       " (66127, 999999984.880098, 1000000000.0080979, 2.8944644994133006),\n",
       " (68107, 999999984.0657613, 1000000000.010551, 2.8942648985319606),\n",
       " (71549, 1000000017.6643333, 1000000000.0087243, 2.8939985279296856),\n",
       " (73271, 1000000016.8392904, 1000000000.0085623, 2.8956586683466354),\n",
       " (82453, 1000000016.0584579, 1000000000.0129722, 2.887951114603787),\n",
       " (83481, 1000000015.4805297, 1000000000.012149, 2.886668200572527),\n",
       " (85477, 999999984.5672679, 1000000000.0107719, 2.887819530222499),\n",
       " (85973, 999999985.1691822, 1000000000.0104971, 2.888088323428628),\n",
       " (86683, 999999984.2576677, 1000000000.0111291, 2.8877234531500053),\n",
       " (87175, 1000000015.697931, 1000000000.0111753, 2.8888620215231424),\n",
       " (90052, 999999985.4213198, 1000000000.0091707, 2.8873619189209916),\n",
       " (91519, 1000000015.1939785, 1000000000.0096205, 2.8864277935546756),\n",
       " (92884, 999999985.4805509, 1000000000.0074883, 2.8862738449025254),\n",
       " (94381, 999999983.7278154, 1000000000.0080103, 2.8840552440147533),\n",
       " (96865, 1000000016.1074123, 1000000000.0092719, 2.8805698818315326)]"
      ]
     },
     "execution_count": 29,
     "metadata": {},
     "output_type": "execute_result"
    }
   ],
   "source": [
    "list(anomalies)#materialize"
   ]
  },
  {
   "cell_type": "markdown",
   "metadata": {},
   "source": [
    "## To think of, but not hand in\n",
    "\n",
    "What kinds of anomalies will this algorithm pick up? What kinds would a shorter \"window\" of anomaly detection, like 100 points around the time in question pick? How might you create an algorithm which does window based averaging? (hint: the window size is small compared to the time series size). \n",
    "\n",
    "Finally think a bit of how you might implement all of this in a production environment..remember that data streaming in might get backed up when you handle an anomaly.\n",
    "\n",
    "(Some inspiration might accrue if you look at the docs for `collections.deque`)."
   ]
  }
 ],
 "metadata": {
  "anaconda-cloud": {},
  "kernelspec": {
   "display_name": "Python [default]",
   "language": "python",
   "name": "python3"
  },
  "language_info": {
   "codemirror_mode": {
    "name": "ipython",
    "version": 3
   },
   "file_extension": ".py",
   "mimetype": "text/x-python",
   "name": "python",
   "nbconvert_exporter": "python",
   "pygments_lexer": "ipython3",
   "version": "3.5.2"
  }
 },
 "nbformat": 4,
 "nbformat_minor": 0
}
